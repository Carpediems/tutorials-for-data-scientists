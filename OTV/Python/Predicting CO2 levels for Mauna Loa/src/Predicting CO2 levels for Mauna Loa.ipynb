{
 "cells": [
  {
   "cell_type": "markdown",
   "metadata": {},
   "source": [
    "## Predicting CO2 levels for Mauna Loa\n",
    "\n",
    "**Author: Thodoris Petropoulos**\n",
    "\n",
    "### Scope\n",
    "The scope of this Notebook is to provide an end to end example of how to use Out of Time Validation (OTV) when working with DataRobot using the Python API. \n",
    "\n",
    "\n",
    "### Background\n",
    "\n",
    "OTV is important when we assume or know that the data we have change distribution over time in which case random sampling of training and testing datasets would not yield an outcome that would be representative of our accuracy in deployment time.\n",
    "\n",
    "OTV can be applied in both classification and regression projects. In essence, OTV will partition your data using the Backtesting method like in Time Series modeling. \n",
    "\n",
    "The data can be accessed [here](https://www.esrl.noaa.gov/gmd/ccgg/trends/data.html) and they represent monthly CO2 levels of one of Hawaii's active volcanoes, Mauna Loa. Note that we could have used this dataset to do Time Series modeling, but for the purposes of demonstrating OTV, we are not.\n",
    "\n",
    "Furthermore, we will be using `interpolated` as our target outcome since `average` has a few missing values which we would like to skip.\n",
    "\n",
    "\n",
    "### Requirements\n",
    "\n",
    "- Python version 3.7.3\n",
    "- DataRobot API version 2.21.0. Small adjustments might be needed depending on the Python version and DataRobot API version you are using.\n",
    "\n",
    "\n",
    "Full documentation of the Python package can be found here: https://datarobot-public-api-client.readthedocs-hosted.com"
   ]
  },
  {
   "cell_type": "markdown",
   "metadata": {},
   "source": [
    "#### Import Libraries\n",
    "To start with, lets import the libraries that will be used in this tutorial"
   ]
  },
  {
   "cell_type": "code",
   "execution_count": 1,
   "metadata": {},
   "outputs": [
    {
     "name": "stderr",
     "output_type": "stream",
     "text": [
      "/Users/thodoris.petropoulos/anaconda3/lib/python3.7/site-packages/statsmodels/tools/_testing.py:19: FutureWarning: pandas.util.testing is deprecated. Use the functions in the public API at pandas.testing instead.\n",
      "  import pandas.util.testing as tm\n"
     ]
    }
   ],
   "source": [
    "import pandas as pd\n",
    "import datarobot as dr\n",
    "\n",
    "import seaborn as sns\n",
    "import matplotlib.pyplot as plt"
   ]
  },
  {
   "cell_type": "markdown",
   "metadata": {},
   "source": [
    "#### Import Dataset"
   ]
  },
  {
   "cell_type": "code",
   "execution_count": 2,
   "metadata": {},
   "outputs": [
    {
     "data": {
      "text/html": [
       "<div>\n",
       "<style scoped>\n",
       "    .dataframe tbody tr th:only-of-type {\n",
       "        vertical-align: middle;\n",
       "    }\n",
       "\n",
       "    .dataframe tbody tr th {\n",
       "        vertical-align: top;\n",
       "    }\n",
       "\n",
       "    .dataframe thead th {\n",
       "        text-align: right;\n",
       "    }\n",
       "</style>\n",
       "<table border=\"1\" class=\"dataframe\">\n",
       "  <thead>\n",
       "    <tr style=\"text-align: right;\">\n",
       "      <th></th>\n",
       "      <th>year</th>\n",
       "      <th>month</th>\n",
       "      <th>decimal date</th>\n",
       "      <th>average</th>\n",
       "      <th>interpolated</th>\n",
       "      <th>trend</th>\n",
       "      <th>ndays</th>\n",
       "      <th>day</th>\n",
       "    </tr>\n",
       "  </thead>\n",
       "  <tbody>\n",
       "    <tr>\n",
       "      <th>0</th>\n",
       "      <td>1958</td>\n",
       "      <td>3</td>\n",
       "      <td>1958.208</td>\n",
       "      <td>315.71</td>\n",
       "      <td>315.71</td>\n",
       "      <td>314.62</td>\n",
       "      <td>-1</td>\n",
       "      <td>1</td>\n",
       "    </tr>\n",
       "    <tr>\n",
       "      <th>1</th>\n",
       "      <td>1958</td>\n",
       "      <td>4</td>\n",
       "      <td>1958.292</td>\n",
       "      <td>317.45</td>\n",
       "      <td>317.45</td>\n",
       "      <td>315.29</td>\n",
       "      <td>-1</td>\n",
       "      <td>1</td>\n",
       "    </tr>\n",
       "    <tr>\n",
       "      <th>2</th>\n",
       "      <td>1958</td>\n",
       "      <td>5</td>\n",
       "      <td>1958.375</td>\n",
       "      <td>317.50</td>\n",
       "      <td>317.50</td>\n",
       "      <td>314.71</td>\n",
       "      <td>-1</td>\n",
       "      <td>1</td>\n",
       "    </tr>\n",
       "    <tr>\n",
       "      <th>3</th>\n",
       "      <td>1958</td>\n",
       "      <td>6</td>\n",
       "      <td>1958.458</td>\n",
       "      <td>-99.99</td>\n",
       "      <td>317.10</td>\n",
       "      <td>314.85</td>\n",
       "      <td>-1</td>\n",
       "      <td>1</td>\n",
       "    </tr>\n",
       "    <tr>\n",
       "      <th>4</th>\n",
       "      <td>1958</td>\n",
       "      <td>7</td>\n",
       "      <td>1958.542</td>\n",
       "      <td>315.86</td>\n",
       "      <td>315.86</td>\n",
       "      <td>314.98</td>\n",
       "      <td>-1</td>\n",
       "      <td>1</td>\n",
       "    </tr>\n",
       "  </tbody>\n",
       "</table>\n",
       "</div>"
      ],
      "text/plain": [
       "   year  month  decimal date  average  interpolated   trend  ndays  day\n",
       "0  1958      3      1958.208   315.71        315.71  314.62     -1    1\n",
       "1  1958      4      1958.292   317.45        317.45  315.29     -1    1\n",
       "2  1958      5      1958.375   317.50        317.50  314.71     -1    1\n",
       "3  1958      6      1958.458   -99.99        317.10  314.85     -1    1\n",
       "4  1958      7      1958.542   315.86        315.86  314.98     -1    1"
      ]
     },
     "execution_count": 2,
     "metadata": {},
     "output_type": "execute_result"
    }
   ],
   "source": [
    "df = pd.read_csv('data/co2_mm_mlo.csv')\n",
    "df['day'] = 1 #Arbitrary day column to create a correct date feature type\n",
    "df.head()"
   ]
  },
  {
   "cell_type": "markdown",
   "metadata": {},
   "source": [
    "#### Connect to DataRobot\n",
    "\n",
    "Connect to DataRobot using your api token and your endpoint. Change input below accordingly."
   ]
  },
  {
   "cell_type": "code",
   "execution_count": 3,
   "metadata": {},
   "outputs": [
    {
     "data": {
      "text/plain": [
       "<datarobot.rest.RESTClientObject at 0x7ffc655ddc18>"
      ]
     },
     "execution_count": 3,
     "metadata": {},
     "output_type": "execute_result"
    }
   ],
   "source": [
    "dr.Client(token ='YOUR_TOKEN' ,\n",
    "          endpoint ='YOUR_ENDPOINT')"
   ]
  },
  {
   "cell_type": "markdown",
   "metadata": {},
   "source": [
    "#### Preprocessing\n",
    "We need to do the following:\n",
    "\n",
    "- Create single column with Date.\n",
    "- Remove unneeded features\n",
    "- Create 4-month lag features.\n",
    "\n",
    "Note that we could have created far more features (such as aggregates on a monthly level or even percentages), but for the purposes of OTV, this is not needed."
   ]
  },
  {
   "cell_type": "code",
   "execution_count": 4,
   "metadata": {},
   "outputs": [
    {
     "data": {
      "text/html": [
       "<div>\n",
       "<style scoped>\n",
       "    .dataframe tbody tr th:only-of-type {\n",
       "        vertical-align: middle;\n",
       "    }\n",
       "\n",
       "    .dataframe tbody tr th {\n",
       "        vertical-align: top;\n",
       "    }\n",
       "\n",
       "    .dataframe thead th {\n",
       "        text-align: right;\n",
       "    }\n",
       "</style>\n",
       "<table border=\"1\" class=\"dataframe\">\n",
       "  <thead>\n",
       "    <tr style=\"text-align: right;\">\n",
       "      <th></th>\n",
       "      <th>interpolated</th>\n",
       "      <th>trend</th>\n",
       "      <th>day</th>\n",
       "      <th>date</th>\n",
       "      <th>lag_1</th>\n",
       "      <th>lag_2</th>\n",
       "      <th>lag_3</th>\n",
       "      <th>lag_4</th>\n",
       "    </tr>\n",
       "  </thead>\n",
       "  <tbody>\n",
       "    <tr>\n",
       "      <th>8</th>\n",
       "      <td>313.33</td>\n",
       "      <td>315.31</td>\n",
       "      <td>1</td>\n",
       "      <td>1958-11-01</td>\n",
       "      <td>312.66</td>\n",
       "      <td>313.20</td>\n",
       "      <td>314.93</td>\n",
       "      <td>315.86</td>\n",
       "    </tr>\n",
       "    <tr>\n",
       "      <th>9</th>\n",
       "      <td>314.67</td>\n",
       "      <td>315.61</td>\n",
       "      <td>1</td>\n",
       "      <td>1958-12-01</td>\n",
       "      <td>313.33</td>\n",
       "      <td>312.66</td>\n",
       "      <td>313.20</td>\n",
       "      <td>314.93</td>\n",
       "    </tr>\n",
       "    <tr>\n",
       "      <th>10</th>\n",
       "      <td>315.62</td>\n",
       "      <td>315.70</td>\n",
       "      <td>1</td>\n",
       "      <td>1959-01-01</td>\n",
       "      <td>314.67</td>\n",
       "      <td>313.33</td>\n",
       "      <td>312.66</td>\n",
       "      <td>313.20</td>\n",
       "    </tr>\n",
       "    <tr>\n",
       "      <th>11</th>\n",
       "      <td>316.38</td>\n",
       "      <td>315.88</td>\n",
       "      <td>1</td>\n",
       "      <td>1959-02-01</td>\n",
       "      <td>315.62</td>\n",
       "      <td>314.67</td>\n",
       "      <td>313.33</td>\n",
       "      <td>312.66</td>\n",
       "    </tr>\n",
       "    <tr>\n",
       "      <th>12</th>\n",
       "      <td>316.71</td>\n",
       "      <td>315.62</td>\n",
       "      <td>1</td>\n",
       "      <td>1959-03-01</td>\n",
       "      <td>316.38</td>\n",
       "      <td>315.62</td>\n",
       "      <td>314.67</td>\n",
       "      <td>313.33</td>\n",
       "    </tr>\n",
       "  </tbody>\n",
       "</table>\n",
       "</div>"
      ],
      "text/plain": [
       "    interpolated   trend  day       date   lag_1   lag_2   lag_3   lag_4\n",
       "8         313.33  315.31    1 1958-11-01  312.66  313.20  314.93  315.86\n",
       "9         314.67  315.61    1 1958-12-01  313.33  312.66  313.20  314.93\n",
       "10        315.62  315.70    1 1959-01-01  314.67  313.33  312.66  313.20\n",
       "11        316.38  315.88    1 1959-02-01  315.62  314.67  313.33  312.66\n",
       "12        316.71  315.62    1 1959-03-01  316.38  315.62  314.67  313.33"
      ]
     },
     "execution_count": 4,
     "metadata": {},
     "output_type": "execute_result"
    }
   ],
   "source": [
    "df['date'] = pd.to_datetime(df[['year', 'month','day']])\n",
    "df.drop(['year','month', 'decimal date', 'average', 'ndays'],inplace=True, axis=1)\n",
    "\n",
    "#Create 2 month lag features\n",
    "for i in range(1,5):\n",
    "    df['lag_{}'.format(i)] = df['interpolated'].shift(i)\n",
    "    \n",
    "df = df.iloc[8:]\n",
    "df.head()"
   ]
  },
  {
   "cell_type": "markdown",
   "metadata": {},
   "source": [
    "#### Plotting and investigating our data\n",
    "It becomes very obvious from this plot that the data is following an upwards trend. Randomly partitioning our data for testing purposes would not work and we would not get representative accuracy metrics."
   ]
  },
  {
   "cell_type": "code",
   "execution_count": 5,
   "metadata": {},
   "outputs": [
    {
     "data": {
      "text/plain": [
       "<matplotlib.axes._subplots.AxesSubplot at 0x7ffc68cff6a0>"
      ]
     },
     "execution_count": 5,
     "metadata": {},
     "output_type": "execute_result"
    },
    {
     "data": {
      "image/png": "[encoded data removed]",
      "text/plain": [
       "<Figure size 432x288 with 1 Axes>"
      ]
     },
     "metadata": {
      "needs_background": "light"
     },
     "output_type": "display_data"
    }
   ],
   "source": [
    "sns.lineplot(x='date', y='interpolated',data=df)"
   ]
  },
  {
   "cell_type": "markdown",
   "metadata": {},
   "source": [
    "#### Define Datetime Partitioning\n",
    "\n",
    "For more options and a more complete example of Datetime Partitioning, check [here](https://github.com/datarobot-community/examples-for-data-scientists/blob/master/Advanced%20Tuning%20and%20Partitioning/Python/Datetime%20Partitioning.ipynb)"
   ]
  },
  {
   "cell_type": "code",
   "execution_count": 6,
   "metadata": {},
   "outputs": [],
   "source": [
    "spec = dr.DatetimePartitioningSpecification(datetime_partition_column = 'date',\n",
    "                                            number_of_backtests = 4,\n",
    "                                            use_time_series = False)"
   ]
  },
  {
   "cell_type": "markdown",
   "metadata": {},
   "source": [
    "#### Start Project\n",
    "I will be passing the `spec` object as an input to the `partitioning_method` variable in the `set_target` method. This will start the project with my designated settings."
   ]
  },
  {
   "cell_type": "code",
   "execution_count": null,
   "metadata": {},
   "outputs": [],
   "source": [
    "project = dr.Project.create(df, project_name = 'Predicting CO2 levels for Mauna Loa')\n",
    "\n",
    "project.set_target('average',partitioning_method = spec, worker_count=-1)\n",
    "project.wait_for_autopilot()"
   ]
  },
  {
   "cell_type": "markdown",
   "metadata": {},
   "source": [
    "#### Getting access to insights\n",
    "As always, all insights are available using both the API and the UI. Below we have an example of getting Feature Impact from one of the trained models.\n",
    "\n",
    "For more examples and sample code for extracting insights, check [here]( https://github.com/datarobot-community/examples-for-data-scientists/tree/master/Model%20Evaluation/Python)"
   ]
  },
  {
   "cell_type": "code",
   "execution_count": null,
   "metadata": {},
   "outputs": [],
   "source": [
    "model = project.get_models()[0]\n",
    "\n",
    "#Get Feature Impact\n",
    "feature_impact = model.get_or_request_feature_impact()\n",
    "\n",
    "#Save feature impact in pandas dataframe\n",
    "fi_df = pd.DataFrame(feature_impact)"
   ]
  },
  {
   "cell_type": "code",
   "execution_count": null,
   "metadata": {},
   "outputs": [],
   "source": [
    "fig, ax = plt.subplots(figsize = (12,5))\n",
    "\n",
    "#Plot feature impact\n",
    "sns.barplot(x='featureName', y='impactNormalized', data=fi_df[0:5], color='g')"
   ]
  }
 ],
 "metadata": {
  "kernelspec": {
   "display_name": "Python 3",
   "language": "python",
   "name": "python3"
  },
  "language_info": {
   "codemirror_mode": {
    "name": "ipython",
    "version": 3
   },
   "file_extension": ".py",
   "mimetype": "text/x-python",
   "name": "python",
   "nbconvert_exporter": "python",
   "pygments_lexer": "ipython3",
   "version": "3.7.3"
  }
 },
 "nbformat": 4,
 "nbformat_minor": 2
}
