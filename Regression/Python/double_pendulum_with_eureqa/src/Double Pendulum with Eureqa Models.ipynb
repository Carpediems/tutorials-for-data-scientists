{
 "cells": [
  {
   "cell_type": "markdown",
   "metadata": {},
   "source": [
    "## Double Pendulum with Eureqa Models\n",
    "**Author**: Dave Heinicke\n",
    "\n",
    "**Label**: Regression\n",
    "\n",
    "### Scope\n",
    "\n",
    "The scope of this notebook is to provide instructions on how to use Eureqa model blueprints with DataRobot. The Data used in this notebook can be found here: \n",
    "https://s3.amazonaws.com/datarobot_public_datasets/double-pendulum.csv\n",
    "\n",
    "The use case is as follows: \n",
    "    \n",
    "    Using a High Speed Camera, log the following:\n",
    "\n",
    "    t - timestamp\n",
    "    x1 - Position of the end of upper bar\n",
    "    x2 - Position of the end of lower bar\n",
    "    v1 - Velocity of the end of upper bar\n",
    "    v2 - Velocity of the end of lower bar\n",
    "    a1 - Acceleration of the end of upper bar\n",
    "    a2 - Acceleration of the end of lower bar (Target)\n",
    "\n",
    "We want Eureqa to uncover the underlying relationship:\n",
    "\n",
    "*a2 = f( t , x1 , x2 , v1 , v2 , a1 )*\n",
    "\n",
    "### Background\n",
    "\n",
    "Eureqa leverages an \"evolutionary\" approach to model creation, testing billions of potential\n",
    "models per second, and converging on the simplest, most accurate ones that explain your data.\n",
    "\n",
    "Eureqa makes no prior assumptions about the data set, instead fitting models to the data\n",
    "dynamically. Compared to other machine learning outputs, Eureqa models are simpler and more\n",
    "transparent. The models are presented as mathematical equations, so end users can seamlessly\n",
    "understand results and recommendations.\n",
    "\n",
    "\n",
    "### Requirements\n",
    "\n",
    "- Python version 3.7.2\n",
    "-  DataRobot API version 2.19\n",
    "\n",
    "Small adjustments might be needed depending on the Python version and DataRobot API version you are using."
   ]
  },
  {
   "cell_type": "markdown",
   "metadata": {},
   "source": [
    "#### Import Libraries"
   ]
  },
  {
   "cell_type": "code",
   "execution_count": 5,
   "metadata": {},
   "outputs": [],
   "source": [
    "import pandas as pd\n",
    "import datarobot as dr"
   ]
  },
  {
   "cell_type": "markdown",
   "metadata": {},
   "source": [
    "#### Connect to DataRobot and Define Settings\n",
    "\n",
    "Connect to DataRobot is mandatory but \"define settings\" heading should be used especially when datasets are not provided. This way the customer can input his own settings to kickoff the script."
   ]
  },
  {
   "cell_type": "code",
   "execution_count": 7,
   "metadata": {},
   "outputs": [
    {
     "data": {
      "text/html": [
       "<div>\n",
       "<style scoped>\n",
       "    .dataframe tbody tr th:only-of-type {\n",
       "        vertical-align: middle;\n",
       "    }\n",
       "\n",
       "    .dataframe tbody tr th {\n",
       "        vertical-align: top;\n",
       "    }\n",
       "\n",
       "    .dataframe thead th {\n",
       "        text-align: right;\n",
       "    }\n",
       "</style>\n",
       "<table border=\"1\" class=\"dataframe\">\n",
       "  <thead>\n",
       "    <tr style=\"text-align: right;\">\n",
       "      <th></th>\n",
       "      <th>t</th>\n",
       "      <th>x1</th>\n",
       "      <th>x2</th>\n",
       "      <th>v1</th>\n",
       "      <th>v2</th>\n",
       "      <th>a1</th>\n",
       "      <th>a2</th>\n",
       "    </tr>\n",
       "  </thead>\n",
       "  <tbody>\n",
       "    <tr>\n",
       "      <th>0</th>\n",
       "      <td>0.000000</td>\n",
       "      <td>2.36</td>\n",
       "      <td>3.14</td>\n",
       "      <td>-0.0100</td>\n",
       "      <td>-0.01000</td>\n",
       "      <td>-9.24</td>\n",
       "      <td>6.53</td>\n",
       "    </tr>\n",
       "    <tr>\n",
       "      <th>1</th>\n",
       "      <td>0.000862</td>\n",
       "      <td>2.36</td>\n",
       "      <td>3.14</td>\n",
       "      <td>-0.0180</td>\n",
       "      <td>-0.00437</td>\n",
       "      <td>-9.24</td>\n",
       "      <td>6.53</td>\n",
       "    </tr>\n",
       "    <tr>\n",
       "      <th>2</th>\n",
       "      <td>0.001720</td>\n",
       "      <td>2.36</td>\n",
       "      <td>3.14</td>\n",
       "      <td>-0.0259</td>\n",
       "      <td>0.00126</td>\n",
       "      <td>-9.24</td>\n",
       "      <td>6.53</td>\n",
       "    </tr>\n",
       "    <tr>\n",
       "      <th>3</th>\n",
       "      <td>0.002590</td>\n",
       "      <td>2.36</td>\n",
       "      <td>3.14</td>\n",
       "      <td>-0.0339</td>\n",
       "      <td>0.00689</td>\n",
       "      <td>-9.24</td>\n",
       "      <td>6.53</td>\n",
       "    </tr>\n",
       "    <tr>\n",
       "      <th>4</th>\n",
       "      <td>0.003450</td>\n",
       "      <td>2.36</td>\n",
       "      <td>3.14</td>\n",
       "      <td>-0.0418</td>\n",
       "      <td>0.01250</td>\n",
       "      <td>-9.24</td>\n",
       "      <td>6.53</td>\n",
       "    </tr>\n",
       "  </tbody>\n",
       "</table>\n",
       "</div>"
      ],
      "text/plain": [
       "          t    x1    x2      v1       v2    a1    a2\n",
       "0  0.000000  2.36  3.14 -0.0100 -0.01000 -9.24  6.53\n",
       "1  0.000862  2.36  3.14 -0.0180 -0.00437 -9.24  6.53\n",
       "2  0.001720  2.36  3.14 -0.0259  0.00126 -9.24  6.53\n",
       "3  0.002590  2.36  3.14 -0.0339  0.00689 -9.24  6.53\n",
       "4  0.003450  2.36  3.14 -0.0418  0.01250 -9.24  6.53"
      ]
     },
     "execution_count": 7,
     "metadata": {},
     "output_type": "execute_result"
    }
   ],
   "source": [
    "# Start DataRobot Client\n",
    "dr.Client(token='YOUR_API_KEY',\n",
    "          endpoint='YOUR_HOSTNAME')\n",
    "\n",
    "path = 'data/double-pendulum.csv'\n",
    "\n",
    "# Read in Pendulum data\n",
    "data = pd.read_csv('data/double-pendulum.csv')\n",
    "data.head()"
   ]
  },
  {
   "cell_type": "markdown",
   "metadata": {},
   "source": [
    "#### Create a Project in DataRobot in Manual Mode\n",
    "\n",
    "This is a regression model. We can just use random partitioning with 5-Fold cross validation (we do not need to keep the pendulum readings in order, we do not need to treat this as a time-aware problem). "
   ]
  },
  {
   "cell_type": "code",
   "execution_count": 9,
   "metadata": {},
   "outputs": [
    {
     "data": {
      "text/plain": [
       "Project(Model of a Double Pendulum)"
      ]
     },
     "execution_count": 9,
     "metadata": {},
     "output_type": "execute_result"
    }
   ],
   "source": [
    "# The Target is \"a2\", and we can use RMSE as the optmization metric\n",
    "\n",
    "project = dr.Project.create(data,\n",
    "                            project_name='Model of a Double Pendulum')\n",
    "\n",
    "project.set_target(target='a2',\n",
    "                   metric='RMSE',\n",
    "                   mode=dr.AUTOPILOT_MODE.MANUAL)"
   ]
  },
  {
   "cell_type": "markdown",
   "metadata": {},
   "source": [
    "#### Select a Eureqa Regressor from the Repository"
   ]
  },
  {
   "cell_type": "code",
   "execution_count": 11,
   "metadata": {},
   "outputs": [
    {
     "name": "stdout",
     "output_type": "stream",
     "text": [
      "Eureqa Regressor (Default Search: 3000 Generations)\n",
      "Eureqa Regressor (Instant Search: 40 Generations)\n",
      "Eureqa Regressor (Quick Search: 1000 Generations)\n",
      "Eureqa Regressor (Long-Running Search: 10000 Generations)\n"
     ]
    },
    {
     "data": {
      "text/plain": [
       "Blueprint(Eureqa Regressor (Default Search: 3000 Generations))"
      ]
     },
     "execution_count": 11,
     "metadata": {},
     "output_type": "execute_result"
    }
   ],
   "source": [
    "# From the Repository, select a Eureqa Regressor\n",
    "# List avaialble Eureqa Regressors\n",
    "\n",
    "eureqa_regressors = [bp for bp in project.get_blueprints() if 'Eureqa Regressor' in bp.model_type]\n",
    "[print(bp.model_type) for bp in eureqa_regressors]\n",
    "\n",
    "# Select the one with the default search (3000 generations).\n",
    "eureqa_bp = eureqa_regressors[0]\n",
    "eureqa_bp"
   ]
  },
  {
   "cell_type": "code",
   "execution_count": 12,
   "metadata": {},
   "outputs": [
    {
     "data": {
      "text/plain": [
       "Model('Eureqa Regressor (Default Search: 3000 Generations)')"
      ]
     },
     "execution_count": 12,
     "metadata": {},
     "output_type": "execute_result"
    }
   ],
   "source": [
    "# Train the Eureqa Regressor, with default parameters\n",
    "model_job_id = project.train(eureqa_bp, sample_pct= 64)\n",
    "\n",
    "dr.models.modeljob.wait_for_async_model_creation(project.id, model_job_id, max_wait=600)"
   ]
  },
  {
   "cell_type": "code",
   "execution_count": 13,
   "metadata": {},
   "outputs": [
    {
     "name": "stdout",
     "output_type": "stream",
     "text": [
      "Model('Eureqa Regressor (Default Search: 3000 Generations)')\n",
      "Target = 18.1051089864661 - 7.14472469444173*x2 - 35.3140912989565*t - 9.89759109372084*min(x1, t) - 1.3224678232697*logistic(v1 - 2.53647862885117 - 598.088169712889*v1*logistic(v2))*if(min(x1, 17.7962969940601 - 6.66794153622069*x2 - 33.6835991897096*t - 9.50649852464752*min(x1, t)), x2, a1)\n"
     ]
    }
   ],
   "source": [
    "# Investigate the default model\n",
    "\n",
    "# Get the default model\n",
    "default_model = project.get_models()[0]\n",
    "print(default_model)\n",
    "\n",
    "# Retrieve the Pareto Front\n",
    "pf = default_model.get_pareto_front()\n",
    "\n",
    "# Print the best solution found\n",
    "default_solutions = pf.solutions\n",
    "best_solution = [s for s in default_solutions if s.best_model][0]\n",
    "print(best_solution.expression)"
   ]
  },
  {
   "cell_type": "markdown",
   "metadata": {},
   "source": [
    "The default expression isn't what we're looking for.\n",
    "We need to specify building blocks that match the physical system we're modeling!\n",
    "\n",
    "First, list all the availalble building blocks to see whats there."
   ]
  },
  {
   "cell_type": "markdown",
   "metadata": {},
   "source": [
    "#### Advance Tune the Default Model"
   ]
  },
  {
   "cell_type": "code",
   "execution_count": 14,
   "metadata": {},
   "outputs": [
    {
     "data": {
      "text/plain": [
       "['building_block__absolute_value',\n",
       " 'building_block__addition',\n",
       " 'building_block__arccosine',\n",
       " 'building_block__arcsine',\n",
       " 'building_block__arctangent',\n",
       " 'building_block__ceiling',\n",
       " 'building_block__complementary_error_function',\n",
       " 'building_block__constant',\n",
       " 'building_block__cosine',\n",
       " 'building_block__division',\n",
       " 'building_block__equal-to',\n",
       " 'building_block__error_function',\n",
       " 'building_block__exponential',\n",
       " 'building_block__factorial',\n",
       " 'building_block__floor',\n",
       " 'building_block__gaussian_function',\n",
       " 'building_block__greater-than',\n",
       " 'building_block__greater-than-or-equal',\n",
       " 'building_block__hyperbolic_cosine',\n",
       " 'building_block__hyperbolic_sine',\n",
       " 'building_block__hyperbolic_tangent',\n",
       " 'building_block__if-then-else',\n",
       " 'building_block__input_variable',\n",
       " 'building_block__integer_constant',\n",
       " 'building_block__inverse_hyperbolic_cosine',\n",
       " 'building_block__inverse_hyperbolic_sine',\n",
       " 'building_block__inverse_hyperbolic_tangent',\n",
       " 'building_block__less-than',\n",
       " 'building_block__less-than-or-equal',\n",
       " 'building_block__logical_and',\n",
       " 'building_block__logical_not',\n",
       " 'building_block__logical_or',\n",
       " 'building_block__logical_xor',\n",
       " 'building_block__logistic_function',\n",
       " 'building_block__maximum',\n",
       " 'building_block__minimum',\n",
       " 'building_block__modulo',\n",
       " 'building_block__multiplication',\n",
       " 'building_block__natural_logarithm',\n",
       " 'building_block__negation',\n",
       " 'building_block__power',\n",
       " 'building_block__round',\n",
       " 'building_block__sign_function',\n",
       " 'building_block__sine',\n",
       " 'building_block__square_root',\n",
       " 'building_block__step_function',\n",
       " 'building_block__subtraction',\n",
       " 'building_block__tangent',\n",
       " 'building_block__two-argument_arctangent',\n",
       " 'error_metric',\n",
       " 'max_generations',\n",
       " 'num_threads',\n",
       " 'prior_solutions',\n",
       " 'random_seed',\n",
       " 'split_mode',\n",
       " 'sync_migrations',\n",
       " 'target_expression_format',\n",
       " 'target_expression_string',\n",
       " 'timeout_sec',\n",
       " 'training_fraction',\n",
       " 'training_split_expr',\n",
       " 'validation_fraction',\n",
       " 'validation_split_expr',\n",
       " 'weight_expr']"
      ]
     },
     "execution_count": 14,
     "metadata": {},
     "output_type": "execute_result"
    }
   ],
   "source": [
    "# Start an advanced tuning session\n",
    "tune = default_model.start_advanced_tuning_session()\n",
    "task_name = tune.get_task_names()[0]\n",
    "\n",
    "# # List all the eureqa tuning paramaters\n",
    "param_names = tune.get_parameter_names(task_name)\n",
    "param_names"
   ]
  },
  {
   "cell_type": "code",
   "execution_count": null,
   "metadata": {},
   "outputs": [],
   "source": [
    "# Set the appropriate parameters\n",
    "\n",
    "tune.description = 'create_physical_model'\n",
    "\n",
    "# These building blocks don't make sense when modeling a pendulum\n",
    "\n",
    "params_to_disable = ['building_block__division',\n",
    "                     'building_block__if-then-else',\n",
    "                     'building_block__less-than',\n",
    "                     'building_block__logistic_function',\n",
    "                     'building_block__maximum',\n",
    "                     'building_block__minimum',\n",
    "                     'building_block__natural_logarithm',\n",
    "                     'building_block__square_root',\n",
    "                     'building_block__step_function',\n",
    "                     ]\n",
    "\n",
    "for p in params_to_disable:\n",
    "    tune.set_parameter(task_name=task_name,\n",
    "                       parameter_name = p,\n",
    "                       value = 'Disabled')\n",
    "\n",
    "# These building blocks do make sense when modeling a pendulum\n",
    "\n",
    "params_to_enable = ['building_block__addition',\n",
    "                     'building_block__constant',\n",
    "                     'building_block__cosine',\n",
    "                     'building_block__multiplication',\n",
    "                     'building_block__sine',\n",
    "                     'building_block__subtraction'\n",
    "                     ]\n",
    "\n",
    "for p in params_to_enable:\n",
    "    tune.set_parameter(task_name=task_name,\n",
    "                       parameter_name = p,\n",
    "                       value = 1)\n",
    "\n",
    "# Extend the search a bit longer. Longer searches can improve Eureqa models.\n",
    "tune.set_parameter(task_name=task_name,\n",
    "                   parameter_name = 'max_generations',\n",
    "                   value = 4000)\n",
    "    \n",
    "job = tune.run()\n",
    "new_model = job.get_result_when_complete()"
   ]
  },
  {
   "cell_type": "code",
   "execution_count": null,
   "metadata": {},
   "outputs": [],
   "source": [
    "# Retrieve the Pareto Front\n",
    "pf = new_model.get_pareto_front()\n",
    "\n",
    "# Print the best solution found\n",
    "default_solutions = pf.solutions\n",
    "best_solutions = [s for s in default_solutions][-3:]\n",
    "[print(s.expression) for s in best_solutions]"
   ]
  },
  {
   "cell_type": "code",
   "execution_count": null,
   "metadata": {},
   "outputs": [],
   "source": []
  }
 ],
 "metadata": {
  "kernelspec": {
   "display_name": "Python 3",
   "language": "python",
   "name": "python3"
  },
  "language_info": {
   "codemirror_mode": {
    "name": "ipython",
    "version": 3
   },
   "file_extension": ".py",
   "mimetype": "text/x-python",
   "name": "python",
   "nbconvert_exporter": "python",
   "pygments_lexer": "ipython3",
   "version": "3.7.3"
  }
 },
 "nbformat": 4,
 "nbformat_minor": 2
}
