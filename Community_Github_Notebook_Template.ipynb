{
 "cells": [
  {
   "cell_type": "markdown",
   "metadata": {},
   "source": [
    "## Title of Notebook\n",
    "**Author**: Name of author\n",
    "\n",
    "**Contributors**: Names of contributors, reviewers, etc\n",
    "\n",
    "**Label**: (Choose one or more seperated by comma):\n",
    "\n",
    "- Binary Classification \n",
    "- Regression\n",
    "- multiclass classification\n",
    "- Time Series\n",
    "- Time Series Outlier Detection\n",
    "- Time Series Classification\n",
    "- Anomaly Detection\n",
    "- Visual AI\n",
    "- geospatial\n",
    "- Applications\n",
    "- Comparing Models\n",
    "- Data Prep\n",
    "- Evaluating Models\n",
    "- Importing Data\n",
    "- Investigating Models\n",
    "- Model Deployment\n",
    "- Model Monitoring\n",
    "- Modeling Options\n",
    "- Understanding Models\n",
    "- Use Cases\n",
    "\n",
    "### Scope\n",
    "\n",
    "The scope of this notebook is to provide instructions ....\n",
    "\n",
    "### Background\n",
    "Anything you want to write here (its ok if these also exist in readme)\n",
    "\n",
    "### Considerations (optional)\n",
    "\n",
    "Anything extra that you want to have\n",
    "\n",
    "### Requirements\n",
    "\n",
    "- Python/R version ...\n",
    "-  DataRobot API version ...\n",
    "\n",
    "Small adjustments might be needed depending on the Python/R version and DataRobot API version you are using."
   ]
  },
  {
   "cell_type": "markdown",
   "metadata": {},
   "source": [
    "Contributors:\n",
    "\n",
    "{\n",
    "\"ipub\": {\n",
    "  \"titlepage\": {\n",
    "  \"author\": \"Authors Name\",\n",
    "  \"email\": \"authors@email.com\",\n",
    "  \"supervisors\": [\n",
    "    \"First Supervisor\",\n",
    "    \"Second Supervisor\"\n",
    "  ],\n",
    "  \"title\": \"Main-Title\",\n",
    "  \"subtitle\": \"Sub-Title\",\n",
    "  \"tagline\": \"A tagline for the report.\",\n",
    "  \"institution\": [\n",
    "    \"Institution1\",\n",
    "    \"Institution2\"\n",
    "  ],\n",
    "  \"logo\": \"path/to/logo_example.png\"\n",
    "  }\n",
    "  }\n",
    "}"
   ]
  },
  {
   "cell_type": "markdown",
   "metadata": {},
   "source": [
    "#### Import Libraries"
   ]
  },
  {
   "cell_type": "code",
   "execution_count": null,
   "metadata": {},
   "outputs": [],
   "source": []
  },
  {
   "cell_type": "markdown",
   "metadata": {},
   "source": [
    "#### Read Dataset"
   ]
  },
  {
   "cell_type": "code",
   "execution_count": null,
   "metadata": {},
   "outputs": [],
   "source": [
    "## read data in\n",
    "df = pd.read_csv(path)"
   ]
  },
  {
   "cell_type": "markdown",
   "metadata": {},
   "source": [
    "#### Connect to DataRobot and Define Settings\n",
    "\n",
    "Connect to DataRobot is mandatory but \"define settings\" heading should be used especially when datasets are not provided. This way the customer can input his own settings to kickoff the script."
   ]
  },
  {
   "cell_type": "code",
   "execution_count": 2,
   "metadata": {},
   "outputs": [],
   "source": [
    "# Connect to DR command\n",
    "dr.Client(token=\"YOUR_API_KEY\", \n",
    "          endpoint=\"YOUR_HOSTNAME\")\n",
    "\n",
    "#path to file\n",
    "path = 'data/...'\n",
    "target = "
   ]
  },
  {
   "cell_type": "markdown",
   "metadata": {},
   "source": [
    "#### General things"
   ]
  },
  {
   "cell_type": "markdown",
   "metadata": {},
   "source": [
    "- Use <code>code tag</code> to highlight code and columns\n",
    "- For headings, use #### (4 hashtags size)\n",
    "- Deployment ID's, Project ID's, API keys are sensitive information and **should not be included in scripts**. Instead, use below:\n",
    "    - YOUR_HOSTNAME\n",
    "    - YOUR_API_KEY\n",
    "    - YOUR_API_PROJECT_ID\n",
    "    - YOUR_API_DEPLOYMENT_ID\n",
    "   \n",
    "- Its good if datasets are included into the folder you upload under a /data folder. In case the dataset is not customer facing, you can just skip this part. Its also ok to link the dataset (in order to reduce size).\n"
   ]
  },
  {
   "cell_type": "code",
   "execution_count": null,
   "metadata": {},
   "outputs": [],
   "source": []
  },
  {
   "cell_type": "code",
   "execution_count": null,
   "metadata": {},
   "outputs": [],
   "source": []
  }
 ],
 "metadata": {
  "kernelspec": {
   "display_name": "Python 3",
   "language": "python",
   "name": "python3"
  },
  "language_info": {
   "codemirror_mode": {
    "name": "ipython",
    "version": 3
   },
   "file_extension": ".py",
   "mimetype": "text/x-python",
   "name": "python",
   "nbconvert_exporter": "python",
   "pygments_lexer": "ipython3",
   "version": "3.7.3"
  }
 },
 "nbformat": 4,
 "nbformat_minor": 2
}
